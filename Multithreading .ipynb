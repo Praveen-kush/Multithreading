{
 "cells": [
  {
   "cell_type": "markdown",
   "id": "de231ff9",
   "metadata": {},
   "source": [
    "# Q1. What is multithreading in python?why is it used? Name the module used to handle threads in python."
   ]
  },
  {
   "cell_type": "markdown",
   "id": "a15bc59e",
   "metadata": {},
   "source": [
    "# Ans:"
   ]
  },
  {
   "cell_type": "markdown",
   "id": "15115777",
   "metadata": {},
   "source": [
    "Multithreading in Python refers to the ability of a Python program to run multiple threads (smaller units of a process) concurrently, allowing different parts of the program to execute in parallel. Python's threading module is used to handle threads. Multithreading is used for several reasons:"
   ]
  },
  {
   "cell_type": "markdown",
   "id": "3449a16a",
   "metadata": {},
   "source": [
    "Concurrency: Multithreading allows you to perform multiple tasks concurrently, which can improve the program's overall efficiency and responsiveness.\n",
    "\n",
    "Parallelism: It can be used to take advantage of multi-core processors, where different threads can be assigned to different CPU cores, enabling true parallel execution of tasks.\n",
    "\n",
    "I/O-Bound Tasks: Multithreading is particularly useful for I/O-bound tasks like network operations and file I/O. While one thread is waiting for data, another thread can continue processing, making better use of CPU resources.\n",
    "\n",
    "Responsive User Interfaces: In graphical applications, multithreading can help keep the user interface responsive while performing background tasks.\n",
    "\n",
    "Separation of Concerns: You can divide a complex program into smaller, more manageable threads, each responsible for a specific aspect of the task."
   ]
  },
  {
   "cell_type": "code",
   "execution_count": 1,
   "id": "e4101484",
   "metadata": {},
   "outputs": [
    {
     "name": "stdout",
     "output_type": "stream",
     "text": [
      "Thread Thread-5: 0\n",
      "Thread Thread-5: 1\n",
      "Thread Thread-5: 2\n",
      "Thread Thread-5: 3\n",
      "Thread Thread-5: 4\n",
      "Thread Thread-6: 0\n",
      "Thread Thread-6: 1\n",
      "Thread Thread-6: 2\n",
      "Thread Thread-6: 3\n",
      "Thread Thread-6: 4\n",
      "Both threads have finished.\n"
     ]
    }
   ],
   "source": [
    "import threading\n",
    "\n",
    "def my_function():\n",
    "    for i in range(5):\n",
    "        print(f\"Thread {threading.current_thread().name}: {i}\")\n",
    "\n",
    "\n",
    "thread1 = threading.Thread(target=my_function)\n",
    "thread2 = threading.Thread(target=my_function)\n",
    "\n",
    "\n",
    "thread1.start()\n",
    "thread2.start()\n",
    "\n",
    "\n",
    "thread1.join()\n",
    "thread2.join()\n",
    "\n",
    "print(\"Both threads have finished.\")\n"
   ]
  },
  {
   "cell_type": "markdown",
   "id": "8cf3ad33",
   "metadata": {},
   "source": [
    " two threads are created to execute the my_function function concurrently. The threading module provides the necessary functionality to work with threads in Python."
   ]
  },
  {
   "cell_type": "markdown",
   "id": "454e8374",
   "metadata": {},
   "source": [
    "# Q2 . Why threading module used? Write the use of the following functions.\n",
    "1. activeCount()\n",
    "2. currentThread()\n",
    "3. enumerate()\n"
   ]
  },
  {
   "cell_type": "markdown",
   "id": "d37c62ac",
   "metadata": {},
   "source": [
    "# Ans:"
   ]
  },
  {
   "cell_type": "markdown",
   "id": "19665610",
   "metadata": {},
   "source": [
    "The threading module in Python is used to work with threads, which are a fundamental unit of execution in a multi-threaded program. This module provides the tools and classes needed to create, manage, and synchronize threads. Here are some of the main reasons why the threading module is used:\n",
    "\n",
    "Concurrency: It allows you to achieve concurrency in Python programs by running multiple threads concurrently. This means that different parts of your program can execute independently and in parallel, making better use of available resources.\n",
    "\n",
    "Responsiveness: In applications where you want to maintain a responsive user interface or handle multiple tasks simultaneously, threading can help ensure that one task doesn't block the execution of others. For example, you can use threads to keep a GUI responsive while performing background tasks like file I/O or network operations.\n",
    "\n",
    "Parallelism: While Python's Global Interpreter Lock (GIL) restricts the true parallelism of threads for CPU-bound tasks, the threading module can still be useful for parallelizing I/O-bound tasks, taking advantage of multi-core processors.\n",
    "\n",
    "Modularity: Threads can be used to break down a complex program into smaller, more manageable pieces, with each thread responsible for a specific part of the task. This can make your code more modular and easier to maintain.\n",
    "\n",
    "Resource Sharing: Threads share the same memory space, which allows them to easily share data and resources within the same process. This can be helpful for scenarios where different parts of the program need to access and modify shared data.\n",
    "\n",
    "Synchronization: The threading module provides synchronization mechanisms like locks, semaphores, and conditions to coordinate access to shared resources, preventing race conditions and ensuring data consistency."
   ]
  },
  {
   "cell_type": "markdown",
   "id": "5d69b5ce",
   "metadata": {},
   "source": [
    "1. activeCount(): This function is used to obtain the current number of Thread objects that are currently alive and have been created using the threading module. It returns an integer representing the count of active threads."
   ]
  },
  {
   "cell_type": "code",
   "execution_count": 6,
   "id": "2736a991",
   "metadata": {},
   "outputs": [
    {
     "name": "stdout",
     "output_type": "stream",
     "text": [
      "Number of active threads: 6\n"
     ]
    }
   ],
   "source": [
    "import threading\n",
    "\n",
    "def my_function():\n",
    "    pass\n",
    "\n",
    "\n",
    "thread1 = threading.Thread(target=my_function)\n",
    "thread2 = threading.Thread(target=my_function)\n",
    "\n",
    "\n",
    "thread1.start()\n",
    "thread2.start()\n",
    "\n",
    "\n",
    "active_threads = threading.activeCount()\n",
    "print(f\"Number of active threads: {active_threads}\")\n"
   ]
  },
  {
   "cell_type": "markdown",
   "id": "27cc301a",
   "metadata": {},
   "source": [
    "2. currentThread(): This function returns the currently executing Thread object. It's useful for identifying the thread that's currently running and allows you to access information about that thread."
   ]
  },
  {
   "cell_type": "code",
   "execution_count": 7,
   "id": "760840c0",
   "metadata": {},
   "outputs": [
    {
     "name": "stdout",
     "output_type": "stream",
     "text": [
      "Current thread name: Thread-14\n"
     ]
    }
   ],
   "source": [
    "import threading\n",
    "\n",
    "def my_function():\n",
    "    current_thread = threading.currentThread()\n",
    "    print(f\"Current thread name: {current_thread.name}\")\n",
    "\n",
    "\n",
    "thread = threading.Thread(target=my_function)\n",
    "\n",
    "\n",
    "thread.start()\n"
   ]
  },
  {
   "cell_type": "markdown",
   "id": "d9a7e574",
   "metadata": {},
   "source": [
    "3. enumerate(): The enumerate() function is used to obtain a list of all active Thread objects. It returns a list of currently alive Thread objects. This can be helpful when you want to iterate through and inspect all active threads."
   ]
  },
  {
   "cell_type": "code",
   "execution_count": 8,
   "id": "adf86fca",
   "metadata": {},
   "outputs": [
    {
     "name": "stdout",
     "output_type": "stream",
     "text": [
      "Thread name: MainThread\n",
      "Thread name: IOPub\n",
      "Thread name: Heartbeat\n",
      "Thread name: Control\n",
      "Thread name: IPythonHistorySavingThread\n",
      "Thread name: Thread-4\n"
     ]
    }
   ],
   "source": [
    "import threading\n",
    "\n",
    "def my_function():\n",
    "    pass\n",
    "\n",
    "\n",
    "thread1 = threading.Thread(target=my_function)\n",
    "thread2 = threading.Thread(target=my_function)\n",
    "\n",
    "\n",
    "thread1.start()\n",
    "thread2.start()\n",
    "\n",
    "\n",
    "active_threads = threading.enumerate()\n",
    "\n",
    "\n",
    "for thread in active_threads:\n",
    "    print(f\"Thread name: {thread.name}\")\n"
   ]
  },
  {
   "cell_type": "markdown",
   "id": "3c019a45",
   "metadata": {},
   "source": [
    "# 3. Explain the following functions\n",
    "1. run()\n",
    "2. start()\n",
    "3. join()\n",
    "4. isAlive()"
   ]
  },
  {
   "cell_type": "markdown",
   "id": "bfb02495",
   "metadata": {},
   "source": [
    "# Ans:"
   ]
  },
  {
   "cell_type": "markdown",
   "id": "d763eb93",
   "metadata": {},
   "source": [
    "The run(), start(), join(), and isAlive() functions in the context of Python's threading module:"
   ]
  },
  {
   "cell_type": "markdown",
   "id": "bab8c28a",
   "metadata": {},
   "source": [
    "1. run(): The run() method is not typically called directly by the programmer but is overridden in a custom thread class to define the code that should be executed when the thread is started. When you create a custom thread class by subclassing threading.Thread and override the run() method, the code inside run() is executed when you call the start() method to start the thread. It's where the actual task or function you want the thread to perform is defined."
   ]
  },
  {
   "cell_type": "code",
   "execution_count": 1,
   "id": "fd913b21",
   "metadata": {},
   "outputs": [
    {
     "name": "stdout",
     "output_type": "stream",
     "text": [
      "Thread is running\n"
     ]
    }
   ],
   "source": [
    "import threading\n",
    "\n",
    "class MyThread(threading.Thread):\n",
    "    def run(self):\n",
    "        \n",
    "        print(\"Thread is running\")\n",
    "\n",
    "\n",
    "thread = MyThread()\n",
    "\n",
    "\n",
    "thread.start()\n"
   ]
  },
  {
   "cell_type": "markdown",
   "id": "00749acd",
   "metadata": {},
   "source": [
    "2. start(): The start() method is used to begin the execution of a thread. When you call start(), it internally invokes the run() method of the thread. This method creates a new thread of execution and allows the code within the run() method to run concurrently with other threads. It should be called only once for each thread object."
   ]
  },
  {
   "cell_type": "code",
   "execution_count": 2,
   "id": "def67a7b",
   "metadata": {},
   "outputs": [
    {
     "name": "stdout",
     "output_type": "stream",
     "text": [
      "Thread is running\n"
     ]
    }
   ],
   "source": [
    "import threading\n",
    "\n",
    "def my_function():\n",
    "    print(\"Thread is running\")\n",
    "\n",
    "\n",
    "thread = threading.Thread(target=my_function)\n",
    "\n",
    "\n",
    "thread.start()\n"
   ]
  },
  {
   "cell_type": "markdown",
   "id": "00ac5ed0",
   "metadata": {},
   "source": [
    "3. join(): The join() method is used to wait for a thread to finish its execution. When you call join() on a thread, the program will block until the thread being joined has completed. This is often used to ensure that one thread doesn't proceed until another has finished its work."
   ]
  },
  {
   "cell_type": "code",
   "execution_count": 3,
   "id": "3788d96e",
   "metadata": {},
   "outputs": [
    {
     "name": "stdout",
     "output_type": "stream",
     "text": [
      "Worker thread is running\n",
      "Main thread continues after worker thread finishes\n"
     ]
    }
   ],
   "source": [
    "import threading\n",
    "\n",
    "def worker():\n",
    "    print(\"Worker thread is running\")\n",
    "\n",
    "\n",
    "thread = threading.Thread(target=worker)\n",
    "\n",
    "\n",
    "thread.start()\n",
    "\n",
    "\n",
    "thread.join()\n",
    "\n",
    "print(\"Main thread continues after worker thread finishes\")\n"
   ]
  },
  {
   "cell_type": "markdown",
   "id": "e40072af",
   "metadata": {},
   "source": [
    "4. isAlive(): The isAlive() method is used to check whether a thread is currently executing or still active. It returns True if the thread is running or has not yet started, and False if the thread has completed its execution or terminated."
   ]
  },
  {
   "cell_type": "code",
   "execution_count": 6,
   "id": "d561834e",
   "metadata": {},
   "outputs": [
    {
     "ename": "AttributeError",
     "evalue": "'Thread' object has no attribute 'isAlive'",
     "output_type": "error",
     "traceback": [
      "\u001b[1;31m---------------------------------------------------------------------------\u001b[0m",
      "\u001b[1;31mAttributeError\u001b[0m                            Traceback (most recent call last)",
      "\u001b[1;32m~\\AppData\\Local\\Temp\\ipykernel_11660\\599375101.py\u001b[0m in \u001b[0;36m<module>\u001b[1;34m\u001b[0m\n\u001b[0;32m      5\u001b[0m \u001b[0mthread\u001b[0m \u001b[1;33m=\u001b[0m \u001b[0mthreading\u001b[0m\u001b[1;33m.\u001b[0m\u001b[0mThread\u001b[0m\u001b[1;33m(\u001b[0m\u001b[0mtarget\u001b[0m\u001b[1;33m=\u001b[0m\u001b[0mmy_function\u001b[0m\u001b[1;33m)\u001b[0m\u001b[1;33m\u001b[0m\u001b[1;33m\u001b[0m\u001b[0m\n\u001b[0;32m      6\u001b[0m \u001b[0mthread\u001b[0m\u001b[1;33m.\u001b[0m\u001b[0mstart\u001b[0m\u001b[1;33m(\u001b[0m\u001b[1;33m)\u001b[0m\u001b[1;33m\u001b[0m\u001b[1;33m\u001b[0m\u001b[0m\n\u001b[1;32m----> 7\u001b[1;33m \u001b[1;32mif\u001b[0m \u001b[0mthread\u001b[0m\u001b[1;33m.\u001b[0m\u001b[0misAlive\u001b[0m\u001b[1;33m(\u001b[0m\u001b[1;33m)\u001b[0m\u001b[1;33m:\u001b[0m\u001b[1;33m\u001b[0m\u001b[1;33m\u001b[0m\u001b[0m\n\u001b[0m\u001b[0;32m      8\u001b[0m     \u001b[0mprint\u001b[0m\u001b[1;33m(\u001b[0m\u001b[1;34m\"Thread is still running\"\u001b[0m\u001b[1;33m)\u001b[0m\u001b[1;33m\u001b[0m\u001b[1;33m\u001b[0m\u001b[0m\n\u001b[0;32m      9\u001b[0m \u001b[1;32melse\u001b[0m\u001b[1;33m:\u001b[0m\u001b[1;33m\u001b[0m\u001b[1;33m\u001b[0m\u001b[0m\n",
      "\u001b[1;31mAttributeError\u001b[0m: 'Thread' object has no attribute 'isAlive'"
     ]
    }
   ],
   "source": [
    "import threading\n",
    "import time\n",
    "def my_function():\n",
    "    time.sleep(2)\n",
    "thread = threading.Thread(target=my_function)\n",
    "thread.start()\n",
    "if thread.isAlive():\n",
    "    print(\"Thread is still running\")\n",
    "else:\n",
    "    print(\"Thread has finished\")\n",
    "thread.join()"
   ]
  },
  {
   "cell_type": "markdown",
   "id": "574f6721",
   "metadata": {},
   "source": [
    "These functions are essential for managing and controlling threads in a multi-threaded Python program. run() and start() are used to define and start the execution of a thread's code, join() is used to wait for a thread to finish, and isAlive() helps check the status of a thread."
   ]
  },
  {
   "cell_type": "markdown",
   "id": "635ff520",
   "metadata": {},
   "source": [
    "# Q4.  Write a python program to create two threads. Thread one must print the list of squares and thread two must print the list of cubes."
   ]
  },
  {
   "cell_type": "markdown",
   "id": "45caff33",
   "metadata": {},
   "source": [
    "# Ans:"
   ]
  },
  {
   "cell_type": "code",
   "execution_count": 7,
   "id": "8a239732",
   "metadata": {},
   "outputs": [
    {
     "name": "stdout",
     "output_type": "stream",
     "text": [
      "Square of 1 is 1Cube of 1 is 1\n",
      "Cube of 2 is 8\n",
      "Cube of 3 is 27\n",
      "Cube of 4 is 64\n",
      "Cube of 5 is 125\n",
      "\n",
      "Square of 2 is 4\n",
      "Square of 3 is 9\n",
      "Square of 4 is 16\n",
      "Square of 5 is 25\n",
      "Both threads have finished.\n"
     ]
    }
   ],
   "source": [
    "import threading\n",
    "\n",
    "def print_squares():\n",
    "    for i in range(1, 6):\n",
    "        print(f\"Square of {i} is {i**2}\")\n",
    "\n",
    "def print_cubes():\n",
    "    for i in range(1, 6):\n",
    "        print(f\"Cube of {i} is {i**3}\")\n",
    "\n",
    "# Create two thread objects\n",
    "thread1 = threading.Thread(target=print_squares)\n",
    "thread2 = threading.Thread(target=print_cubes)\n",
    "\n",
    "# Start both threads\n",
    "thread1.start()\n",
    "thread2.start()\n",
    "\n",
    "# Wait for both threads to finish\n",
    "thread1.join()\n",
    "thread2.join()\n",
    "\n",
    "print(\"Both threads have finished.\")\n"
   ]
  },
  {
   "cell_type": "markdown",
   "id": "a2df4c01",
   "metadata": {},
   "source": [
    " we define two functions, print_squares() and print_cubes(), which print the squares and cubes of numbers from 1 to 5. We create two thread objects, thread1 and thread2, and assign each function to run in a separate thread. Then, we start both threads using start() and wait for them to finish using join(). Finally, we print a message indicating that both threads have finished."
   ]
  },
  {
   "cell_type": "markdown",
   "id": "0e2b039e",
   "metadata": {},
   "source": [
    "# Q5. State advantages and disadvantages of multithreading."
   ]
  },
  {
   "cell_type": "markdown",
   "id": "fe67f459",
   "metadata": {},
   "source": [
    "# Ans:"
   ]
  },
  {
   "cell_type": "markdown",
   "id": "18899039",
   "metadata": {},
   "source": [
    "# Advantages of Multithreading:"
   ]
  },
  {
   "cell_type": "markdown",
   "id": "bf9b4fd4",
   "metadata": {},
   "source": [
    "Improved Performance: Multithreading can lead to improved performance, especially for I/O-bound and concurrent applications. It allows multiple tasks to be executed in parallel, making better use of available CPU resources and reducing overall execution time.\n",
    "\n",
    "Responsiveness: Multithreading can keep an application responsive, particularly in user interfaces or server applications. It prevents one task from blocking the entire program, ensuring that other tasks can continue running.\n",
    "\n",
    "Resource Sharing: Threads share the same memory space, making it easier to share data and resources between threads, which can be advantageous in complex applications.\n",
    "\n",
    "Modularity: Multithreading can make code more modular by allowing you to divide a complex program into smaller, more manageable threads, with each thread responsible for a specific part of the task.\n",
    "\n",
    "Parallelism: In applications designed for multicore processors, multithreading can take advantage of multiple CPU cores, allowing for true parallel execution of tasks."
   ]
  },
  {
   "cell_type": "markdown",
   "id": "17dd0d2b",
   "metadata": {},
   "source": [
    "# Disadvantages of Multithreading:"
   ]
  },
  {
   "cell_type": "markdown",
   "id": "dbeeebb4",
   "metadata": {},
   "source": [
    "Complexity: Multithreaded code can be more challenging to write, debug, and maintain compared to single-threaded code. It introduces issues like race conditions, deadlocks, and thread synchronization.\n",
    "\n",
    "Race Conditions: Race conditions can occur when multiple threads access and modify shared data concurrently, leading to unpredictable and undesirable behavior.\n",
    "\n",
    "Deadlocks: Deadlocks happen when two or more threads are unable to proceed because each is waiting for a resource held by the other, effectively bringing the application to a standstill.\n",
    "\n",
    "Increased Memory Usage: Each thread has its own stack and may require additional memory for synchronization and inter-thread communication, which can increase memory usage.\n",
    "\n",
    "Global Interpreter Lock (GIL): In the case of Python, the Global Interpreter Lock (GIL) can limit the true parallelism of threads for CPU-bound tasks, as it ensures that only one thread executes Python bytecode at a time.\n",
    "\n",
    "Debugging Complexity: Debugging multithreaded programs can be challenging due to the non-deterministic nature of thread execution and race conditions. Issues may not always be reproducible or predictable.\n",
    "\n",
    "Complex Synchronization: Managing thread synchronization, locks, and semaphores can be complex and error-prone."
   ]
  },
  {
   "cell_type": "markdown",
   "id": "d35fe91f",
   "metadata": {},
   "source": [
    "# Q6. Explain deadlocks and race conditions."
   ]
  },
  {
   "cell_type": "markdown",
   "id": "a661fa68",
   "metadata": {},
   "source": [
    "# Ans:"
   ]
  },
  {
   "cell_type": "markdown",
   "id": "54658c86",
   "metadata": {},
   "source": [
    "# Deadlocks:"
   ]
  },
  {
   "cell_type": "markdown",
   "id": "060459d9",
   "metadata": {},
   "source": [
    "A deadlock is a situation in which two or more threads or processes are unable to proceed because they are each waiting for a resource that the other holds. Deadlocks can bring a program to a standstill. The conditions necessary for a deadlock to occur are often referred to as the \"Four Coffin Conditions\":\n",
    "\n",
    "Mutual Exclusion: Resources that are being contended for must be non-shareable, meaning that only one thread or process can access the resource at a time.\n",
    "\n",
    "Hold and Wait: A thread or process must hold at least one resource while waiting for another resource to be released. In other words, a thread cannot release a resource and request it again.\n",
    "\n",
    "No Preemption: Resources cannot be forcefully taken away from a thread; they must be released voluntarily.\n",
    "\n",
    "Circular Wait: There must be a circular chain of threads, where each thread is waiting for a resource held by the next thread in the chain."
   ]
  },
  {
   "cell_type": "markdown",
   "id": "6e853e10",
   "metadata": {},
   "source": [
    "# Race Conditions:"
   ]
  },
  {
   "cell_type": "markdown",
   "id": "4c801698",
   "metadata": {},
   "source": [
    "A race condition is a situation in which the behavior of a program depends on the relative timing of events, such as the order in which threads or processes are scheduled to run. In other words, the outcome of the program is \"racing\" to see which thread or process reaches a critical section of code first. Race conditions can lead to unpredictable and undesirable results.\n",
    "\n",
    "Race conditions typically occur when multiple threads or processes access shared resources or variables concurrently without proper synchronization. For example, if one thread is reading a shared variable while another thread is writing to it simultaneously, the result may be undefined because it depends on the order of execution.\n",
    "\n",
    "Race conditions can be subtle and challenging to detect because they often depend on the timing of thread execution, and they may not manifest consistently. To mitigate race conditions, synchronization mechanisms such as locks, semaphores, and conditions are used to ensure that only one thread at a time can access a critical section of code or shared resource. This prevents multiple threads from interfering with each other and helps maintain program correctness.\n",
    "\n",
    "Both deadlocks and race conditions are synchronization issues that can be problematic in concurrent programming. Proper design, careful resource management, and the use of synchronization mechanisms are essential to prevent and resolve these issues."
   ]
  },
  {
   "cell_type": "code",
   "execution_count": null,
   "id": "954f8c68",
   "metadata": {},
   "outputs": [],
   "source": []
  }
 ],
 "metadata": {
  "kernelspec": {
   "display_name": "Python 3 (ipykernel)",
   "language": "python",
   "name": "python3"
  },
  "language_info": {
   "codemirror_mode": {
    "name": "ipython",
    "version": 3
   },
   "file_extension": ".py",
   "mimetype": "text/x-python",
   "name": "python",
   "nbconvert_exporter": "python",
   "pygments_lexer": "ipython3",
   "version": "3.9.13"
  }
 },
 "nbformat": 4,
 "nbformat_minor": 5
}
